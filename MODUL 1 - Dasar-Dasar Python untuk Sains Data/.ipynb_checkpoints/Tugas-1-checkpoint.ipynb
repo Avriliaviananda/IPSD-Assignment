{
 "cells": [
  {
   "cell_type": "markdown",
   "metadata": {},
   "source": [
    "1. Buatlah program yang dapat menghasilkan pola berbentuk angka seperti di bawah ini, dengan syarat angka yang ditampilkan adalah hasil dari penjumlahan bilangan prima sebelumnya, Jumlah angka pada setiap baris bertambah 1, dan bilangan yang ditampilkan adalah bilangan prima."
   ]
  },
  {
   "cell_type": "code",
   "execution_count": 1,
   "metadata": {},
   "outputs": [
    {
     "name": "stdout",
     "output_type": "stream",
     "text": [
      "2\n",
      "3 5\n",
      "7 11 13\n",
      "17 19 23 29\n"
     ]
    }
   ],
   "source": [
    "def is_prime(n):\n",
    "  \"\"\"Mengecek apakah suatu bilangan merupakan bilangan prima.\"\"\"\n",
    "  if n <= 1:\n",
    "    return True  # Ubah baris ini\n",
    "  for i in range(2, int(n**0.5) + 1):\n",
    "    if n % i == 0:\n",
    "      return False\n",
    "  return True\n",
    "\n",
    "def generate_prime_pattern(rows):\n",
    "  \"\"\"Menghasilkan pola bilangan prima dengan jumlah baris yang ditentukan.\"\"\"\n",
    "  primes = []\n",
    "  num = 2\n",
    "\n",
    "  for i in range(rows):\n",
    "    row = []\n",
    "    count = i + 1\n",
    "    while len(row) < count:\n",
    "      if is_prime(num):\n",
    "        primes.append(num)\n",
    "        row.append(str(num))\n",
    "      num += 1\n",
    "    print(\" \".join(row))\n",
    "\n",
    "# Menentukan jumlah baris\n",
    "num_rows = 4\n",
    "\n",
    "# Memanggil fungsi untuk menghasilkan pola\n",
    "generate_prime_pattern(num_rows)"
   ]
  },
  {
   "cell_type": "markdown",
   "metadata": {},
   "source": [
    "2. Buatlah sebuah fungsi yang menerima dua input berupa list angka. Fungsi ini harus mengembalikan sebuah list baru yang berisi elemen dari dua list input yang memiliki indeks ganjil. List baru tersebut juga harus diurutkan secara menurun berdasarkan nilai elemen."
   ]
  },
  {
   "cell_type": "code",
   "execution_count": 8,
   "metadata": {},
   "outputs": [],
   "source": [
    "def elemen_indeks_ganjil(list1, list2):\n",
    "\n",
    "  list_gabungan = list1 + list2\n",
    "\n",
    "  list_indeks_ganjil = sorted([element for index, element in enumerate(list_gabungan) if index % 2 != 0], reverse=True)\n",
    "\n",
    "  return list_indeks_ganjil"
   ]
  },
  {
   "cell_type": "code",
   "execution_count": 14,
   "metadata": {},
   "outputs": [
    {
     "name": "stdout",
     "output_type": "stream",
     "text": [
      "[10, 8, 6, 4, 2]\n"
     ]
    }
   ],
   "source": [
    "list1 = [1, 2, 3, 4, 5]\n",
    "list2 = [6, 7, 8, 9, 10]\n",
    "\n",
    "hasil = elemen_indeks_ganjil(list1, list2)\n",
    "print(hasil)"
   ]
  },
  {
   "cell_type": "markdown",
   "metadata": {},
   "source": [
    "3. Buat sebuah program untuk mensimulasikan transaksi ATM. Program harus:\n",
    "a. Meminta pengguna memasukkan PIN (dibatasi 3 kali percobaan).\n",
    "b. Setelah PIN benar, meminta jumlah penarikan.\n",
    "c. Jika saldo kurang dari jumlah yang ditarik, munculkan pesan kesalahan.\n",
    "d. Jika penarikan berhasil, tampilkan saldo akhir.\n"
   ]
  },
  {
   "cell_type": "code",
   "execution_count": 1,
   "metadata": {},
   "outputs": [
    {
     "name": "stdout",
     "output_type": "stream",
     "text": [
      "Masukkan PIN: 1234\n",
      "PIN benar. Silakan melakukan transaksi.\n",
      "Masukkan jumlah penarikan: 50000\n",
      "Penarikan berhasil. Saldo akhir: Rp 50,000\n"
     ]
    }
   ],
   "source": [
    "# Inisialisasi saldo awal\n",
    "saldo_awal = 100000\n",
    "\n",
    "# Fungsi untuk memeriksa PIN\n",
    "def cek_pin():\n",
    "    pin_benar = \"1234\"  # Ganti dengan PIN sebenarnya\n",
    "    percobaan = 0\n",
    "    while percobaan < 3:\n",
    "        pin_masukan = input(\"Masukkan PIN: \")\n",
    "        if pin_masukan == pin_benar:\n",
    "            return True\n",
    "        else:\n",
    "            percobaan += 1\n",
    "            print(\"PIN salah. Silakan coba lagi.\")\n",
    "    return False\n",
    "\n",
    "# Fungsi untuk melakukan penarikan\n",
    "def tarik_tunai(saldo):\n",
    "    jumlah_tarik = int(input(\"Masukkan jumlah penarikan: \"))\n",
    "    if jumlah_tarik > saldo:\n",
    "        print(\"Saldo tidak cukup. Transaksi gagal.\")\n",
    "    else:\n",
    "        saldo -= jumlah_tarik\n",
    "        print(f\"Penarikan berhasil. Saldo akhir: Rp {saldo:,}\")\n",
    "\n",
    "# Program utama\n",
    "if cek_pin():\n",
    "    print(\"PIN benar. Silakan melakukan transaksi.\")\n",
    "    tarik_tunai(saldo_awal)\n",
    "else:\n",
    "    print(\"PIN salah 3 kali. Transaksi dibatalkan.\")"
   ]
  },
  {
   "cell_type": "markdown",
   "metadata": {},
   "source": [
    "4. Anda diberikan file CSV berisi data nilai ujian mahasiswa. Tugas Anda adalah menulis sebuah program yang:\n",
    "a. Membaca file CSV dan menyimpan datanya ke dalam dictionary.\n",
    "b. Menghitung rata-rata nilai tiap mahasiswa.\n",
    "c. Menampilkan mahasiswa dengan nilai tertinggi dan terendah.\n"
   ]
  },
  {
   "cell_type": "code",
   "execution_count": null,
   "metadata": {},
   "outputs": [],
   "source": []
  }
 ],
 "metadata": {
  "kernelspec": {
   "display_name": "Python 3 (ipykernel)",
   "language": "python",
   "name": "python3"
  },
  "language_info": {
   "codemirror_mode": {
    "name": "ipython",
    "version": 3
   },
   "file_extension": ".py",
   "mimetype": "text/x-python",
   "name": "python",
   "nbconvert_exporter": "python",
   "pygments_lexer": "ipython3",
   "version": "3.11.5"
  }
 },
 "nbformat": 4,
 "nbformat_minor": 2
}
