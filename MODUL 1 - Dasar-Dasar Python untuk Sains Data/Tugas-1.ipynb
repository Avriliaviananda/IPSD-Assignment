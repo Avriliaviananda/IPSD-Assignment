{
 "cells": [
  {
   "cell_type": "markdown",
   "metadata": {},
   "source": [
    "1. Buatlah program yang dapat menghasilkan pola berbentuk angka seperti di bawah ini, dengan syarat angka yang ditampilkan adalah hasil dari penjumlahan bilangan prima sebelumnya, Jumlah angka pada setiap baris bertambah 1, dan bilangan yang ditampilkan adalah bilangan prima."
   ]
  },
  {
   "cell_type": "code",
   "execution_count": 21,
   "metadata": {},
   "outputs": [
    {
     "name": "stdout",
     "output_type": "stream",
     "text": [
      "1\n",
      "2 3\n",
      "5 7 11\n",
      "13 17 19 23\n"
     ]
    }
   ],
   "source": [
    "def is_prime(n):\n",
    "    if n == 1:\n",
    "        return True\n",
    "    if n <= 1:\n",
    "        return False  \n",
    "    for i in range(2, int(n**0.5) + 1):\n",
    "        if n % i == 0:\n",
    "            return False\n",
    "    return True\n",
    "\n",
    "def generate_prime_pattern(rows):\n",
    "    primes = []\n",
    "    num = 1  \n",
    "\n",
    "    for i in range(rows):\n",
    "        row = []\n",
    "        count = i + 1\n",
    "        while len(row) < count:\n",
    "            if is_prime(num):\n",
    "                primes.append(num)\n",
    "                row.append(str(num))\n",
    "            num += 1\n",
    "        print(\" \".join(row))\n",
    "\n",
    "num_rows = 4\n",
    "generate_prime_pattern(num_rows)"
   ]
  },
  {
   "cell_type": "markdown",
   "metadata": {},
   "source": [
    "2. Buatlah sebuah fungsi yang menerima dua input berupa list angka. Fungsi ini harus mengembalikan sebuah list baru yang berisi elemen dari dua list input yang memiliki indeks ganjil. List baru tersebut juga harus diurutkan secara menurun berdasarkan nilai elemen."
   ]
  },
  {
   "cell_type": "code",
   "execution_count": 19,
   "metadata": {},
   "outputs": [
    {
     "name": "stdout",
     "output_type": "stream",
     "text": [
      "[10, 8, 6, 4, 2]\n"
     ]
    }
   ],
   "source": [
    "def indeks_ganjil(list1, list2):\n",
    "\n",
    "  list_gabungan = list1 + list2\n",
    "\n",
    "  list_indeks_ganjil = sorted([element for index, element in enumerate(list_gabungan) if index % 2 != 0], reverse=True)\n",
    "\n",
    "  return list_indeks_ganjil\n",
    "\n",
    "list1 = [1, 2, 3, 4, 5]\n",
    "list2 = [6, 7, 8, 9, 10]\n",
    "\n",
    "hasil = indeks_ganjil(list1, list2)\n",
    "print(hasil)"
   ]
  },
  {
   "cell_type": "markdown",
   "metadata": {},
   "source": [
    "3. Buat sebuah program untuk mensimulasikan transaksi ATM. Program harus:\n",
    "a. Meminta pengguna memasukkan PIN (dibatasi 3 kali percobaan).\n",
    "b. Setelah PIN benar, meminta jumlah penarikan.\n",
    "c. Jika saldo kurang dari jumlah yang ditarik, munculkan pesan kesalahan.\n",
    "d. Jika penarikan berhasil, tampilkan saldo akhir.\n"
   ]
  },
  {
   "cell_type": "code",
   "execution_count": 5,
   "metadata": {},
   "outputs": [
    {
     "name": "stdout",
     "output_type": "stream",
     "text": [
      "Masukkan PIN: 5555\n",
      "PIN benar. Silakan melakukan transaksi.\n",
      "Masukkan jumlah penarikan: 100000\n",
      "Penarikan berhasil. Saldo akhir: Rp 900,000\n"
     ]
    }
   ],
   "source": [
    "saldo_awal = 1000000\n",
    "\n",
    "def cek_pin():\n",
    "    pin_benar = \"5555\"  \n",
    "    percobaan = 0\n",
    "    while percobaan < 3:\n",
    "        pin_masukan = input(\"Masukkan PIN: \")\n",
    "        if pin_masukan == pin_benar:\n",
    "            return True\n",
    "        else:\n",
    "            percobaan += 1\n",
    "            print(\"PIN salah. Silakan coba lagi.\")\n",
    "    return False\n",
    "\n",
    "def tarik_tunai(saldo):\n",
    "    jumlah_tarik = int(input(\"Masukkan jumlah penarikan: \"))\n",
    "    if jumlah_tarik > saldo:\n",
    "        print(\"Saldo tidak cukup. Transaksi gagal.\")\n",
    "    else:\n",
    "        saldo -= jumlah_tarik\n",
    "        print(f\"Penarikan berhasil. Saldo akhir: Rp {saldo:,}\")\n",
    "\n",
    "if cek_pin():\n",
    "    print(\"PIN benar. Silakan melakukan transaksi.\")\n",
    "    tarik_tunai(saldo_awal)\n",
    "else:\n",
    "    print(\"PIN salah 3 kali. Transaksi dibatalkan.\")"
   ]
  },
  {
   "cell_type": "markdown",
   "metadata": {},
   "source": [
    "4. Anda diberikan file CSV berisi data nilai ujian mahasiswa. Tugas Anda adalah menulis sebuah program yang:\n",
    "a. Membaca file CSV dan menyimpan datanya ke dalam dictionary.\n",
    "b. Menghitung rata-rata nilai tiap mahasiswa.\n",
    "c. Menampilkan mahasiswa dengan nilai tertinggi dan terendah.\n"
   ]
  },
  {
   "cell_type": "code",
   "execution_count": 9,
   "metadata": {},
   "outputs": [
    {
     "name": "stdout",
     "output_type": "stream",
     "text": [
      "{'Nama Siswa': ['Siswa_1', 'Siswa_2', 'Siswa_3', 'Siswa_4', 'Siswa_5', 'Siswa_6', 'Siswa_7', 'Siswa_8', 'Siswa_9', 'Siswa_10', 'Siswa_11', 'Siswa_12', 'Siswa_13', 'Siswa_14', 'Siswa_15', 'Siswa_16', 'Siswa_17', 'Siswa_18', 'Siswa_19', 'Siswa_20', 'Siswa_21', 'Siswa_22', 'Siswa_23', 'Siswa_24', 'Siswa_25', 'Siswa_26', 'Siswa_27', 'Siswa_28', 'Siswa_29', 'Siswa_30', 'Siswa_31', 'Siswa_32', 'Siswa_33', 'Siswa_34', 'Siswa_35', 'Siswa_36', 'Siswa_37', 'Siswa_38', 'Siswa_39', 'Siswa_40', 'Siswa_41', 'Siswa_42', 'Siswa_43', 'Siswa_44', 'Siswa_45', 'Siswa_46', 'Siswa_47', 'Siswa_48', 'Siswa_49', 'Siswa_50', 'Siswa_51', 'Siswa_52', 'Siswa_53', 'Siswa_54', 'Siswa_55', 'Siswa_56', 'Siswa_57', 'Siswa_58', 'Siswa_59', 'Siswa_60', 'Siswa_61', 'Siswa_62', 'Siswa_63', 'Siswa_64', 'Siswa_65', 'Siswa_66', 'Siswa_67', 'Siswa_68', 'Siswa_69', 'Siswa_70', 'Siswa_71', 'Siswa_72', 'Siswa_73', 'Siswa_74', 'Siswa_75', 'Siswa_76', 'Siswa_77', 'Siswa_78', 'Siswa_79', 'Siswa_80', 'Siswa_81', 'Siswa_82', 'Siswa_83', 'Siswa_84', 'Siswa_85', 'Siswa_86', 'Siswa_87', 'Siswa_88', 'Siswa_89', 'Siswa_90', 'Siswa_91', 'Siswa_92', 'Siswa_93', 'Siswa_94', 'Siswa_95', 'Siswa_96', 'Siswa_97', 'Siswa_98', 'Siswa_99', 'Siswa_100'], 'Nilai': [59, 79, 61, 74, 50, 70, 100, 84, 78, 61, 92, 60, 78, 87, 57, 73, 53, 54, 97, 52, 84, 89, 52, 90, 52, 64, 96, 100, 84, 60, 85, 63, 64, 68, 67, 52, 79, 55, 88, 95, 78, 66, 71, 64, 51, 77, 90, 83, 99, 56, 68, 88, 62, 98, 58, 92, 60, 55, 93, 60, 53, 79, 75, 83, 58, 50, 75, 61, 57, 98, 85, 57, 53, 55, 54, 64, 51, 65, 68, 51, 99, 89, 92, 56, 96, 79, 76, 71, 98, 89, 92, 65, 50, 84, 67, 59, 57, 70, 66, 78]}\n"
     ]
    },
    {
     "ename": "TypeError",
     "evalue": "unsupported operand type(s) for +: 'int' and 'str'",
     "output_type": "error",
     "traceback": [
      "\u001b[1;31m---------------------------------------------------------------------------\u001b[0m",
      "\u001b[1;31mTypeError\u001b[0m                                 Traceback (most recent call last)",
      "Cell \u001b[1;32mIn[9], line 28\u001b[0m\n\u001b[0;32m     25\u001b[0m     tampilkan_nilai_tertinggi_terendah(rata_rata_mahasiswa)\n\u001b[0;32m     27\u001b[0m \u001b[38;5;28;01mif\u001b[39;00m \u001b[38;5;18m__name__\u001b[39m \u001b[38;5;241m==\u001b[39m \u001b[38;5;124m\"\u001b[39m\u001b[38;5;124m__main__\u001b[39m\u001b[38;5;124m\"\u001b[39m:\n\u001b[1;32m---> 28\u001b[0m     main()\n",
      "Cell \u001b[1;32mIn[9], line 24\u001b[0m, in \u001b[0;36mmain\u001b[1;34m()\u001b[0m\n\u001b[0;32m     22\u001b[0m nama_file \u001b[38;5;241m=\u001b[39m \u001b[38;5;124m'\u001b[39m\u001b[38;5;124mD:/DOWNLOUD/siswa_nilai (1).csv\u001b[39m\u001b[38;5;124m'\u001b[39m  \n\u001b[0;32m     23\u001b[0m data \u001b[38;5;241m=\u001b[39m pd\u001b[38;5;241m.\u001b[39mread_csv(\u001b[38;5;124m\"\u001b[39m\u001b[38;5;124mD:/DOWNLOUD/siswa_nilai (1).csv\u001b[39m\u001b[38;5;124m\"\u001b[39m)\n\u001b[1;32m---> 24\u001b[0m rata_rata_mahasiswa \u001b[38;5;241m=\u001b[39m hitung_rata_rata(data)\n\u001b[0;32m     25\u001b[0m tampilkan_nilai_tertinggi_terendah(rata_rata_mahasiswa)\n",
      "Cell \u001b[1;32mIn[9], line 11\u001b[0m, in \u001b[0;36mhitung_rata_rata\u001b[1;34m(data)\u001b[0m\n\u001b[0;32m      9\u001b[0m rata_rata \u001b[38;5;241m=\u001b[39m {}\n\u001b[0;32m     10\u001b[0m \u001b[38;5;28;01mfor\u001b[39;00m nama, nilai \u001b[38;5;129;01min\u001b[39;00m data\u001b[38;5;241m.\u001b[39mitems():\n\u001b[1;32m---> 11\u001b[0m     rata_rata[nama] \u001b[38;5;241m=\u001b[39m \u001b[38;5;28msum\u001b[39m(nilai) \u001b[38;5;241m/\u001b[39m \u001b[38;5;28mlen\u001b[39m(nilai)\n\u001b[0;32m     12\u001b[0m \u001b[38;5;28;01mreturn\u001b[39;00m rata_rata\n",
      "\u001b[1;31mTypeError\u001b[0m: unsupported operand type(s) for +: 'int' and 'str'"
     ]
    }
   ],
   "source": [
    "import pandas as pd\n",
    "\n",
    "data = pd.read_csv(\"D:/DOWNLOUD/siswa_nilai (1).csv\")\n",
    "\n",
    "dictionary = data.to_dict(orient='list')\n",
    "print(dictionary)\n",
    "\n",
    "def hitung_rata_rata(data):\n",
    "    rata_rata = {}\n",
    "    for nama, nilai in data.items():\n",
    "        rata_rata[nama] = sum(nilai) / len(nilai)\n",
    "    return rata_rata\n",
    "\n",
    "def tampilkan_nilai_tertinggi_terendah(rata_rata):\n",
    "    mahasiswa_tertinggi = max(rata_rata, key=rata_rata.get)\n",
    "    mahasiswa_terendah = min(rata_rata, key=rata_rata.get)\n",
    "\n",
    "    print(f'Mahasiswa dengan nilai rata-rata tertinggi: {mahasiswa_tertinggi} dengan nilai {rata_rata[mahasiswa_tertinggi]:.2f}')\n",
    "    print(f'Mahasiswa dengan nilai rata-rata terendah: {mahasiswa_terendah} dengan nilai {rata_rata[mahasiswa_terendah]:.2f}')\n",
    "\n",
    "def main():\n",
    "    nama_file = 'D:/DOWNLOUD/siswa_nilai (1).csv'  \n",
    "    data = pd.read_csv(\"D:/DOWNLOUD/siswa_nilai (1).csv\")\n",
    "    rata_rata_mahasiswa = hitung_rata_rata(data)\n",
    "    tampilkan_nilai_tertinggi_terendah(rata_rata_mahasiswa)\n",
    "\n",
    "if __name__ == \"__main__\":\n",
    "    main()"
   ]
  },
  {
   "cell_type": "markdown",
   "metadata": {},
   "source": [
    "5. Buatlah permainan sederhana menggunakan Python, di mana komputer akan memilih sebuah angka secara acak antara 1 hingga 100, dan pengguna harus menebak angka tersebut. Setiap tebakan yang salah akan memberikan petunjuk apakah angka yang ditebak lebih besar atau lebih kecil dari angka sebenarnya. Batasi jumlah percobaan menjadi 5 kali. Setelah permainan selesai, tampilkan apakah pemain menang atau kalah."
   ]
  },
  {
   "cell_type": "code",
   "execution_count": 2,
   "metadata": {},
   "outputs": [
    {
     "name": "stdout",
     "output_type": "stream",
     "text": [
      "Tebak angka antara 1 hingga 100: 70\n",
      "Angka terlalu besar. Coba lagi!\n",
      "Tebak angka antara 1 hingga 100: 50\n",
      "Angka terlalu kecil. Coba lagi!\n",
      "Tebak angka antara 1 hingga 100: 65\n",
      "Angka terlalu besar. Coba lagi!\n",
      "Tebak angka antara 1 hingga 100: 60\n",
      "Angka terlalu besar. Coba lagi!\n",
      "Tebak angka antara 1 hingga 100: 55\n",
      "Angka terlalu besar. Coba lagi!\n",
      "Anda kalah. Angka yang benar adalah 51\n"
     ]
    }
   ],
   "source": [
    "import random\n",
    "\n",
    "angka_rahasia = random.randint(1, 100)\n",
    "percobaan = 0\n",
    "while percobaan < 5:\n",
    "    tebak_pengguna = int(input(\"Tebak angka antara 1 hingga 100: \"))\n",
    "    if tebak_pengguna == angka_rahasia:\n",
    "        print(\"Selamat! Anda menang!\")\n",
    "        break\n",
    "    elif tebak_pengguna < angka_rahasia:\n",
    "        print(\"Angka terlalu kecil. Coba lagi!\")\n",
    "    else: \n",
    "        print(\"Angka terlalu besar. Coba lagi!\")\n",
    "\n",
    "    percobaan += 1\n",
    "\n",
    "if percobaan == 5:\n",
    "    print(\"Anda kalah. Angka yang benar adalah\", angka_rahasia)"
   ]
  },
  {
   "cell_type": "markdown",
   "metadata": {},
   "source": [
    "6. Buat fungsi rekursif yang menerima input bilangan bulat `n` dan menghasilkan urutan bilangan seperti berikut ini:\n",
    "```\n",
    "Input: n = 4\n",
    "Output: 1, 1, 2, 6, 24\n",
    "```\n"
   ]
  },
  {
   "cell_type": "code",
   "execution_count": 8,
   "metadata": {},
   "outputs": [
    {
     "name": "stdout",
     "output_type": "stream",
     "text": [
      "[1, 1, 2, 6, 24]\n"
     ]
    }
   ],
   "source": [
    "def urutan_bilangan(n, i=1, hasil=[]):\n",
    "    if i > n + 1:\n",
    "        return hasil\n",
    "    else:\n",
    "        faktorial = 1\n",
    "        for j in range(1, i):\n",
    "            faktorial *= j\n",
    "        hasil.append(faktorial)\n",
    "        return urutan_bilangan(n, i + 1, hasil)\n",
    "\n",
    "n = 4\n",
    "print(urutan_bilangan(n))"
   ]
  },
  {
   "cell_type": "markdown",
   "metadata": {},
   "source": [
    "7. Buatlah program untuk memecahkan masalah \"minimum coin change\". Diberikan jumlah uang dan daftar nilai koin yang tersedia (misalnya, 1, 5, 10, 25), tentukan kombinasi minimum koin yang diperlukan untuk mencapai jumlah uang tersebut. Namun, program Anda harus bisa menangani koin-koin yang nilai dan jumlahnya ditentukan pengguna."
   ]
  },
  {
   "cell_type": "code",
   "execution_count": 1,
   "metadata": {},
   "outputs": [
    {
     "name": "stdout",
     "output_type": "stream",
     "text": [
      "Masukkan jumlah uang: 50000\n",
      "Masukkan nilai koin (pisahkan dengan spasi): 5 7 8 10\n",
      "Jumlah minimum koin: 5000\n"
     ]
    }
   ],
   "source": [
    "def minimum_coin_change(jumlah_uang, nilai_koin):\n",
    "    jumlah_koin = [float('inf')] * (jumlah_uang + 1)\n",
    "    jumlah_koin[0] = 0\n",
    "\n",
    "    for i in range(1, jumlah_uang + 1):\n",
    "        for c in nilai_koin:\n",
    "            if i >= c:\n",
    "                jumlah_koin[i] = min(jumlah_koin[i], 1 + jumlah_koin[i - c])\n",
    "\n",
    "    return jumlah_koin[jumlah_uang]\n",
    "\n",
    "jumlah_uang = int(input(\"Masukkan jumlah uang: \"))\n",
    "nilai_koin = list(map(int, input(\"Masukkan nilai koin (pisahkan dengan spasi): \").split()))\n",
    "\n",
    "hasil = minimum_coin_change(jumlah_uang, nilai_koin)\n",
    "print(\"Jumlah minimum koin:\", hasil)"
   ]
  },
  {
   "cell_type": "markdown",
   "metadata": {},
   "source": [
    "8. Buat sebuah program yang menerima string dari pengguna dan mengonversi string tersebut menjadi sebuah list berisi kata-kata terbalik. Misalnya:\n",
    "```\n",
    "Input: \"Saya suka Python\"\n",
    "Output: [\"ayaS\", \"akus\", \"nohtyP\"]\n",
    "```\n"
   ]
  },
  {
   "cell_type": "code",
   "execution_count": 3,
   "metadata": {},
   "outputs": [
    {
     "name": "stdout",
     "output_type": "stream",
     "text": [
      "Masukkan kalimat: saya suka python\n",
      "['ayas', 'akus', 'nohtyp']\n"
     ]
    }
   ],
   "source": [
    "def balik_kata(kalimat):\n",
    "\n",
    "  kata_terbalik = []\n",
    "  for kata in kalimat.split():\n",
    "    kata_terbalik.append(kata[::-1])\n",
    "  return kata_terbalik\n",
    "\n",
    "kalimat = input(\"Masukkan kalimat: \")\n",
    "\n",
    "hasil = balik_kata(kalimat)\n",
    "print(hasil)"
   ]
  },
  {
   "cell_type": "markdown",
   "metadata": {},
   "source": [
    "9. Buat class bernama `Buku` yang memiliki atribut `judul`, `penulis`, dan `tahun_terbit`. Buat method dalam class untuk menampilkan informasi buku, serta method untuk menghitung usia buku berdasarkan tahun saat ini. Buatlah 3 objek dari class `Buku` dan tampilkan informasi serta usia masing-masing buku."
   ]
  },
  {
   "cell_type": "code",
   "execution_count": 4,
   "metadata": {},
   "outputs": [
    {
     "name": "stdout",
     "output_type": "stream",
     "text": [
      "Buku 1:\n",
      "Judul: Algoritma dan Pemrograman dalam Bahasa Pascal dan C\n",
      "Penulis: Rinaldi Munir\n",
      "Tahun Terbit: 2005\n",
      "Usia: 19 tahun\n",
      "\n",
      "Buku 2:\n",
      "Judul: Mahir dalam 7 Hari: Pemrograman Python\n",
      "Penulis: Jayan Binjasarah\n",
      "Tahun Terbit: 2020\n",
      "Usia: 4 tahun\n",
      "\n",
      "Buku 3:\n",
      "Judul: Pemrograman Web dengan PHP dan MySQL\n",
      "Penulis: Wahana Komputer\n",
      "Tahun Terbit: 2013\n",
      "Usia: 11 tahun\n",
      "\n"
     ]
    }
   ],
   "source": [
    "import datetime\n",
    "\n",
    "class Buku:\n",
    "    def __init__(self, judul, penulis, tahun_terbit):\n",
    "        self.judul = judul\n",
    "        self.penulis = penulis\n",
    "        self.tahun_terbit = tahun_terbit\n",
    "\n",
    "    def tampilkan_informasi(self):\n",
    "        print(f\"Judul: {self.judul}\")\n",
    "        print(f\"Penulis: {self.penulis}\")\n",
    "        print(f\"Tahun Terbit: {self.tahun_terbit}\")\n",
    "\n",
    "    def hitung_usia(self):\n",
    "        tahun_saat_ini = datetime.date.today().year\n",
    "        usia = tahun_saat_ini - self.tahun_terbit\n",
    "        return usia\n",
    "\n",
    "# 3 objek dari kelas Buku\n",
    "buku1 = Buku(\"Algoritma dan Pemrograman dalam Bahasa Pascal dan C\", \"Rinaldi Munir\", 2005)\n",
    "buku2 = Buku(\"Mahir dalam 7 Hari: Pemrograman Python\", \"Jayan Binjasarah\", 2020)\n",
    "buku3 = Buku(\"Pemrograman Web dengan PHP dan MySQL\", \"Wahana Komputer\", 2013)\n",
    "\n",
    "# Tampilan\n",
    "print(\"Buku 1:\")\n",
    "buku1.tampilkan_informasi()\n",
    "print(f\"Usia: {buku1.hitung_usia()} tahun\")\n",
    "print()\n",
    "\n",
    "print(\"Buku 2:\")\n",
    "buku2.tampilkan_informasi()\n",
    "print(f\"Usia: {buku2.hitung_usia()} tahun\")\n",
    "print()\n",
    "\n",
    "print(\"Buku 3:\")\n",
    "buku3.tampilkan_informasi()\n",
    "print(f\"Usia: {buku3.hitung_usia()} tahun\")\n",
    "print()"
   ]
  },
  {
   "cell_type": "markdown",
   "metadata": {},
   "source": [
    "10. Buatlah program yang mengimplementasikan algoritma pencarian biner, namun dengan modifikasi: algoritma harus bisa mencari nilai di list yang hanya berisi angka genap, dan jika nilai yang dicari adalah angka ganjil, program harus menampilkan pesan bahwa nilai tersebut tidak bisa ditemukan."
   ]
  },
  {
   "cell_type": "code",
   "execution_count": 5,
   "metadata": {},
   "outputs": [
    {
     "name": "stdout",
     "output_type": "stream",
     "text": [
      "Masukkan nilai yang ingin dicari: 8\n",
      "Nilai 8 ditemukan pada indeks 3.\n"
     ]
    }
   ],
   "source": [
    "def binary_search(angka_genap, angka):\n",
    "    low = 0\n",
    "    high = len(angka_genap) - 1\n",
    "\n",
    "    while low <= high:\n",
    "        mid = (low + high) // 2\n",
    "        if angka_genap[mid] == angka:\n",
    "            return mid\n",
    "        elif angka_genap[mid] < angka:\n",
    "            low = mid + 1\n",
    "        else:\n",
    "            high = mid - 1\n",
    "\n",
    "    if angka % 2 != 0:\n",
    "        return \"Nilai tidak bisa ditemukan karena nilai tersebut adalah angka ganjil.\"\n",
    "    else:\n",
    "        return \"Nilai tidak ditemukan.\"\n",
    "\n",
    "angka_genap = [2, 4, 6, 8, 10, 12]\n",
    "\n",
    "angka = int(input(\"Masukkan nilai yang ingin dicari: \"))\n",
    "\n",
    "hasil = binary_search(angka_genap, angka)\n",
    "\n",
    "if isinstance(hasil, int):\n",
    "    print(f\"Nilai {angka} ditemukan pada indeks {hasil}.\")\n",
    "else:\n",
    "    print(hasil)"
   ]
  },
  {
   "cell_type": "code",
   "execution_count": null,
   "metadata": {},
   "outputs": [],
   "source": []
  }
 ],
 "metadata": {
  "kernelspec": {
   "display_name": "Python 3 (ipykernel)",
   "language": "python",
   "name": "python3"
  },
  "language_info": {
   "codemirror_mode": {
    "name": "ipython",
    "version": 3
   },
   "file_extension": ".py",
   "mimetype": "text/x-python",
   "name": "python",
   "nbconvert_exporter": "python",
   "pygments_lexer": "ipython3",
   "version": "3.11.5"
  }
 },
 "nbformat": 4,
 "nbformat_minor": 2
}
